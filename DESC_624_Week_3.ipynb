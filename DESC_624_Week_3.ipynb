{
  "nbformat": 4,
  "nbformat_minor": 0,
  "metadata": {
    "colab": {
      "name": "DESC 624 Week 3",
      "provenance": [],
      "include_colab_link": true
    },
    "kernelspec": {
      "name": "python3",
      "display_name": "Python 3"
    }
  },
  "cells": [
    {
      "cell_type": "markdown",
      "metadata": {
        "id": "view-in-github",
        "colab_type": "text"
      },
      "source": [
        "<a href=\"https://colab.research.google.com/github/Shiwei-Chen/DESC-624/blob/master/DESC_624_Week_3.ipynb\" target=\"_parent\"><img src=\"https://colab.research.google.com/assets/colab-badge.svg\" alt=\"Open In Colab\"/></a>"
      ]
    },
    {
      "cell_type": "code",
      "metadata": {
        "id": "4fPmZwPuvDAx",
        "colab_type": "code",
        "outputId": "1a5ccc8b-81de-4459-ba3b-221effd62f62",
        "colab": {
          "base_uri": "https://localhost:8080/",
          "height": 204
        }
      },
      "source": [
        "import numpy as np\n",
        "import matplotlib.pyplot as plt\n",
        "import seaborn as sns\n",
        "import pandas as pd\n",
        "\n",
        "url = 'https://archive.ics.uci.edu/ml/machine-learning-databases/iris/iris.data'\n",
        "col=['sepal_length','sepal_width','petal_length','petal_width','type']\n",
        "\n",
        "data = pd.read_csv(url, names = col)\n",
        "\n",
        "# Print first 5 rows of the dataframe\n",
        "data.head()"
      ],
      "execution_count": 1,
      "outputs": [
        {
          "output_type": "execute_result",
          "data": {
            "text/html": [
              "<div>\n",
              "<style scoped>\n",
              "    .dataframe tbody tr th:only-of-type {\n",
              "        vertical-align: middle;\n",
              "    }\n",
              "\n",
              "    .dataframe tbody tr th {\n",
              "        vertical-align: top;\n",
              "    }\n",
              "\n",
              "    .dataframe thead th {\n",
              "        text-align: right;\n",
              "    }\n",
              "</style>\n",
              "<table border=\"1\" class=\"dataframe\">\n",
              "  <thead>\n",
              "    <tr style=\"text-align: right;\">\n",
              "      <th></th>\n",
              "      <th>sepal_length</th>\n",
              "      <th>sepal_width</th>\n",
              "      <th>petal_length</th>\n",
              "      <th>petal_width</th>\n",
              "      <th>type</th>\n",
              "    </tr>\n",
              "  </thead>\n",
              "  <tbody>\n",
              "    <tr>\n",
              "      <th>0</th>\n",
              "      <td>5.1</td>\n",
              "      <td>3.5</td>\n",
              "      <td>1.4</td>\n",
              "      <td>0.2</td>\n",
              "      <td>Iris-setosa</td>\n",
              "    </tr>\n",
              "    <tr>\n",
              "      <th>1</th>\n",
              "      <td>4.9</td>\n",
              "      <td>3.0</td>\n",
              "      <td>1.4</td>\n",
              "      <td>0.2</td>\n",
              "      <td>Iris-setosa</td>\n",
              "    </tr>\n",
              "    <tr>\n",
              "      <th>2</th>\n",
              "      <td>4.7</td>\n",
              "      <td>3.2</td>\n",
              "      <td>1.3</td>\n",
              "      <td>0.2</td>\n",
              "      <td>Iris-setosa</td>\n",
              "    </tr>\n",
              "    <tr>\n",
              "      <th>3</th>\n",
              "      <td>4.6</td>\n",
              "      <td>3.1</td>\n",
              "      <td>1.5</td>\n",
              "      <td>0.2</td>\n",
              "      <td>Iris-setosa</td>\n",
              "    </tr>\n",
              "    <tr>\n",
              "      <th>4</th>\n",
              "      <td>5.0</td>\n",
              "      <td>3.6</td>\n",
              "      <td>1.4</td>\n",
              "      <td>0.2</td>\n",
              "      <td>Iris-setosa</td>\n",
              "    </tr>\n",
              "  </tbody>\n",
              "</table>\n",
              "</div>"
            ],
            "text/plain": [
              "   sepal_length  sepal_width  petal_length  petal_width         type\n",
              "0           5.1          3.5           1.4          0.2  Iris-setosa\n",
              "1           4.9          3.0           1.4          0.2  Iris-setosa\n",
              "2           4.7          3.2           1.3          0.2  Iris-setosa\n",
              "3           4.6          3.1           1.5          0.2  Iris-setosa\n",
              "4           5.0          3.6           1.4          0.2  Iris-setosa"
            ]
          },
          "metadata": {
            "tags": []
          },
          "execution_count": 1
        }
      ]
    },
    {
      "cell_type": "code",
      "metadata": {
        "id": "P2--CooowYue",
        "colab_type": "code",
        "outputId": "7fb99d1f-185b-4fdb-db78-965bbcb8fa1d",
        "colab": {
          "base_uri": "https://localhost:8080/",
          "height": 259
        }
      },
      "source": [
        "sns.FacetGrid(data,hue=\"type\",size=3).map(sns.distplot,\"petal_length\").add_legend()\n",
        "plt.show()"
      ],
      "execution_count": 2,
      "outputs": [
        {
          "output_type": "stream",
          "text": [
            "/usr/local/lib/python3.6/dist-packages/seaborn/axisgrid.py:230: UserWarning: The `size` paramter has been renamed to `height`; please update your code.\n",
            "  warnings.warn(msg, UserWarning)\n"
          ],
          "name": "stderr"
        },
        {
          "output_type": "display_data",
          "data": {
            "image/png": "[encoded data removed]",
            "text/plain": [
              "<Figure size 319.5x216 with 1 Axes>"
            ]
          },
          "metadata": {
            "tags": []
          }
        }
      ]
    },
    {
      "cell_type": "code",
      "metadata": {
        "id": "BbBPpP089o0i",
        "colab_type": "code",
        "outputId": "fa3d235d-8ac4-4f85-88c7-60714da58ba2",
        "colab": {
          "base_uri": "https://localhost:8080/",
          "height": 204
        }
      },
      "source": [
        "data.head()"
      ],
      "execution_count": 3,
      "outputs": [
        {
          "output_type": "execute_result",
          "data": {
            "text/html": [
              "<div>\n",
              "<style scoped>\n",
              "    .dataframe tbody tr th:only-of-type {\n",
              "        vertical-align: middle;\n",
              "    }\n",
              "\n",
              "    .dataframe tbody tr th {\n",
              "        vertical-align: top;\n",
              "    }\n",
              "\n",
              "    .dataframe thead th {\n",
              "        text-align: right;\n",
              "    }\n",
              "</style>\n",
              "<table border=\"1\" class=\"dataframe\">\n",
              "  <thead>\n",
              "    <tr style=\"text-align: right;\">\n",
              "      <th></th>\n",
              "      <th>sepal_length</th>\n",
              "      <th>sepal_width</th>\n",
              "      <th>petal_length</th>\n",
              "      <th>petal_width</th>\n",
              "      <th>type</th>\n",
              "    </tr>\n",
              "  </thead>\n",
              "  <tbody>\n",
              "    <tr>\n",
              "      <th>0</th>\n",
              "      <td>5.1</td>\n",
              "      <td>3.5</td>\n",
              "      <td>1.4</td>\n",
              "      <td>0.2</td>\n",
              "      <td>Iris-setosa</td>\n",
              "    </tr>\n",
              "    <tr>\n",
              "      <th>1</th>\n",
              "      <td>4.9</td>\n",
              "      <td>3.0</td>\n",
              "      <td>1.4</td>\n",
              "      <td>0.2</td>\n",
              "      <td>Iris-setosa</td>\n",
              "    </tr>\n",
              "    <tr>\n",
              "      <th>2</th>\n",
              "      <td>4.7</td>\n",
              "      <td>3.2</td>\n",
              "      <td>1.3</td>\n",
              "      <td>0.2</td>\n",
              "      <td>Iris-setosa</td>\n",
              "    </tr>\n",
              "    <tr>\n",
              "      <th>3</th>\n",
              "      <td>4.6</td>\n",
              "      <td>3.1</td>\n",
              "      <td>1.5</td>\n",
              "      <td>0.2</td>\n",
              "      <td>Iris-setosa</td>\n",
              "    </tr>\n",
              "    <tr>\n",
              "      <th>4</th>\n",
              "      <td>5.0</td>\n",
              "      <td>3.6</td>\n",
              "      <td>1.4</td>\n",
              "      <td>0.2</td>\n",
              "      <td>Iris-setosa</td>\n",
              "    </tr>\n",
              "  </tbody>\n",
              "</table>\n",
              "</div>"
            ],
            "text/plain": [
              "   sepal_length  sepal_width  petal_length  petal_width         type\n",
              "0           5.1          3.5           1.4          0.2  Iris-setosa\n",
              "1           4.9          3.0           1.4          0.2  Iris-setosa\n",
              "2           4.7          3.2           1.3          0.2  Iris-setosa\n",
              "3           4.6          3.1           1.5          0.2  Iris-setosa\n",
              "4           5.0          3.6           1.4          0.2  Iris-setosa"
            ]
          },
          "metadata": {
            "tags": []
          },
          "execution_count": 3
        }
      ]
    },
    {
      "cell_type": "markdown",
      "metadata": {
        "id": "SDEYCz7n9hXz",
        "colab_type": "text"
      },
      "source": [
        "**Two Categorical Attributes**"
      ]
    },
    {
      "cell_type": "code",
      "metadata": {
        "id": "9jPeAClL9nQE",
        "colab_type": "code",
        "colab": {}
      },
      "source": [
        "iris = data"
      ],
      "execution_count": 0,
      "outputs": []
    },
    {
      "cell_type": "code",
      "metadata": {
        "id": "AdmfNf8g94_1",
        "colab_type": "code",
        "outputId": "bb27722f-9f72-494c-c930-b86bff89cf3b",
        "colab": {
          "base_uri": "https://localhost:8080/",
          "height": 204
        }
      },
      "source": [
        "iris['sepal_width_binned'] = pd.cut(x = iris['sepal_width'], bins = [0, iris['sepal_width'].mean(), iris['sepal_width'].max()],\n",
        "     labels=[\"small\", \"large\"], right = False)\n",
        "\n",
        "\n",
        "iris.head()"
      ],
      "execution_count": 5,
      "outputs": [
        {
          "output_type": "execute_result",
          "data": {
            "text/html": [
              "<div>\n",
              "<style scoped>\n",
              "    .dataframe tbody tr th:only-of-type {\n",
              "        vertical-align: middle;\n",
              "    }\n",
              "\n",
              "    .dataframe tbody tr th {\n",
              "        vertical-align: top;\n",
              "    }\n",
              "\n",
              "    .dataframe thead th {\n",
              "        text-align: right;\n",
              "    }\n",
              "</style>\n",
              "<table border=\"1\" class=\"dataframe\">\n",
              "  <thead>\n",
              "    <tr style=\"text-align: right;\">\n",
              "      <th></th>\n",
              "      <th>sepal_length</th>\n",
              "      <th>sepal_width</th>\n",
              "      <th>petal_length</th>\n",
              "      <th>petal_width</th>\n",
              "      <th>type</th>\n",
              "      <th>sepal_width_binned</th>\n",
              "    </tr>\n",
              "  </thead>\n",
              "  <tbody>\n",
              "    <tr>\n",
              "      <th>0</th>\n",
              "      <td>5.1</td>\n",
              "      <td>3.5</td>\n",
              "      <td>1.4</td>\n",
              "      <td>0.2</td>\n",
              "      <td>Iris-setosa</td>\n",
              "      <td>large</td>\n",
              "    </tr>\n",
              "    <tr>\n",
              "      <th>1</th>\n",
              "      <td>4.9</td>\n",
              "      <td>3.0</td>\n",
              "      <td>1.4</td>\n",
              "      <td>0.2</td>\n",
              "      <td>Iris-setosa</td>\n",
              "      <td>small</td>\n",
              "    </tr>\n",
              "    <tr>\n",
              "      <th>2</th>\n",
              "      <td>4.7</td>\n",
              "      <td>3.2</td>\n",
              "      <td>1.3</td>\n",
              "      <td>0.2</td>\n",
              "      <td>Iris-setosa</td>\n",
              "      <td>large</td>\n",
              "    </tr>\n",
              "    <tr>\n",
              "      <th>3</th>\n",
              "      <td>4.6</td>\n",
              "      <td>3.1</td>\n",
              "      <td>1.5</td>\n",
              "      <td>0.2</td>\n",
              "      <td>Iris-setosa</td>\n",
              "      <td>large</td>\n",
              "    </tr>\n",
              "    <tr>\n",
              "      <th>4</th>\n",
              "      <td>5.0</td>\n",
              "      <td>3.6</td>\n",
              "      <td>1.4</td>\n",
              "      <td>0.2</td>\n",
              "      <td>Iris-setosa</td>\n",
              "      <td>large</td>\n",
              "    </tr>\n",
              "  </tbody>\n",
              "</table>\n",
              "</div>"
            ],
            "text/plain": [
              "   sepal_length  sepal_width  ...         type  sepal_width_binned\n",
              "0           5.1          3.5  ...  Iris-setosa               large\n",
              "1           4.9          3.0  ...  Iris-setosa               small\n",
              "2           4.7          3.2  ...  Iris-setosa               large\n",
              "3           4.6          3.1  ...  Iris-setosa               large\n",
              "4           5.0          3.6  ...  Iris-setosa               large\n",
              "\n",
              "[5 rows x 6 columns]"
            ]
          },
          "metadata": {
            "tags": []
          },
          "execution_count": 5
        }
      ]
    },
    {
      "cell_type": "code",
      "metadata": {
        "id": "2bMfugDj-GUy",
        "colab_type": "code",
        "outputId": "2a0ce028-9672-46ad-fcc0-a3d7149560d3",
        "colab": {
          "base_uri": "https://localhost:8080/",
          "height": 354
        }
      },
      "source": [
        "crosstab_01 = pd.crosstab(iris['type'], iris['sepal_width_binned'])\n",
        "crosstab_norm = crosstab_01.div(crosstab_01.sum(1), axis = 0)\n",
        "crosstab_01.plot(kind='bar', stacked = True)"
      ],
      "execution_count": 6,
      "outputs": [
        {
          "output_type": "execute_result",
          "data": {
            "text/plain": [
              "<matplotlib.axes._subplots.AxesSubplot at 0x7f65300a6ba8>"
            ]
          },
          "metadata": {
            "tags": []
          },
          "execution_count": 6
        },
        {
          "output_type": "display_data",
          "data": {
            "image/png": "[encoded data removed]",
            "text/plain": [
              "<Figure size 432x288 with 1 Axes>"
            ]
          },
          "metadata": {
            "tags": []
          }
        }
      ]
    },
    {
      "cell_type": "code",
      "metadata": {
        "id": "-oyKgi96-Ug3",
        "colab_type": "code",
        "outputId": "000e7063-1297-474d-f1c6-d6710e8a051f",
        "colab": {
          "base_uri": "https://localhost:8080/",
          "height": 354
        }
      },
      "source": [
        "crosstab_norm.plot(kind='bar', stacked = True)"
      ],
      "execution_count": 7,
      "outputs": [
        {
          "output_type": "execute_result",
          "data": {
            "text/plain": [
              "<matplotlib.axes._subplots.AxesSubplot at 0x7f653006eba8>"
            ]
          },
          "metadata": {
            "tags": []
          },
          "execution_count": 7
        },
        {
          "output_type": "display_data",
          "data": {
            "image/png": "[encoded data removed]",
            "text/plain": [
              "<Figure size 432x288 with 1 Axes>"
            ]
          },
          "metadata": {
            "tags": []
          }
        }
      ]
    },
    {
      "cell_type": "markdown",
      "metadata": {
        "id": "ENOmDyVB_WzS",
        "colab_type": "text"
      },
      "source": [
        "Observation: Proportion of sepal_width_binned changes based on type.\n",
        "\n",
        "* Ha = yes it does\n",
        "* H0 = no it does not\n",
        "\n",
        "Chi square test"
      ]
    },
    {
      "cell_type": "code",
      "metadata": {
        "id": "RHktwfAJ_tPq",
        "colab_type": "code",
        "colab": {}
      },
      "source": [
        "from scipy import stats"
      ],
      "execution_count": 0,
      "outputs": []
    },
    {
      "cell_type": "code",
      "metadata": {
        "id": "KlVfHf7i_x2c",
        "colab_type": "code",
        "colab": {}
      },
      "source": [
        "chi2_stat, pval, DoF, ex = stats.chi2_contingency(crosstab_01)"
      ],
      "execution_count": 0,
      "outputs": []
    },
    {
      "cell_type": "code",
      "metadata": {
        "id": "frRnRC8s_7WS",
        "colab_type": "code",
        "outputId": "f6b37309-7d50-454c-bd44-0692e4b0b10b",
        "colab": {
          "base_uri": "https://localhost:8080/",
          "height": 289
        }
      },
      "source": [
        "print(\"===Chi2 Stat===\")\n",
        "print(chi2_stat)\n",
        "print(\"\\n\")\n",
        "print(\"===Degrees of Freedom===\")\n",
        "print(DoF)\n",
        "print(\"\\n\")\n",
        "print(\"===P-Value===\")\n",
        "print(pval)\n",
        "print(\"\\n\")\n",
        "print(\"===Contingency Table===\")\n",
        "print(ex)"
      ],
      "execution_count": 10,
      "outputs": [
        {
          "output_type": "stream",
          "text": [
            "===Chi2 Stat===\n",
            "49.16489311606352\n",
            "\n",
            "\n",
            "===Degrees of Freedom===\n",
            "2\n",
            "\n",
            "\n",
            "===P-Value===\n",
            "2.1085267163365518e-11\n",
            "\n",
            "\n",
            "===Contingency Table===\n",
            "[[27.29530201 21.70469799]\n",
            " [27.85234899 22.14765101]\n",
            " [27.85234899 22.14765101]]\n"
          ],
          "name": "stdout"
        }
      ]
    },
    {
      "cell_type": "code",
      "metadata": {
        "id": "sDsNUEoBACvm",
        "colab_type": "code",
        "outputId": "d06e4e1e-aa68-4a07-8235-55021a71663f",
        "colab": {
          "base_uri": "https://localhost:8080/",
          "height": 34
        }
      },
      "source": [
        "if pval < 0.05:    # alpha value is 0.05 or 5%\n",
        "   print(\" we are rejecting null hypothesis\")\n",
        "else:\n",
        "  print(\"we are accepting null hypothesis\")"
      ],
      "execution_count": 11,
      "outputs": [
        {
          "output_type": "stream",
          "text": [
            " we are rejecting null hypothesis\n"
          ],
          "name": "stdout"
        }
      ]
    },
    {
      "cell_type": "markdown",
      "metadata": {
        "id": "NmdyzwG3A9EH",
        "colab_type": "text"
      },
      "source": [
        "**One Numerical Attribute**"
      ]
    },
    {
      "cell_type": "code",
      "metadata": {
        "id": "y6zqOI8ABCly",
        "colab_type": "code",
        "outputId": "b0b66db3-ddcc-4806-b435-a78637805af9",
        "colab": {
          "base_uri": "https://localhost:8080/",
          "height": 34
        }
      },
      "source": [
        "iris['petal_width'].mean()"
      ],
      "execution_count": 12,
      "outputs": [
        {
          "output_type": "execute_result",
          "data": {
            "text/plain": [
              "1.1986666666666672"
            ]
          },
          "metadata": {
            "tags": []
          },
          "execution_count": 12
        }
      ]
    },
    {
      "cell_type": "code",
      "metadata": {
        "id": "aYKTyiIeBeQq",
        "colab_type": "code",
        "colab": {}
      },
      "source": [
        "from scipy.stats import ttest_1samp"
      ],
      "execution_count": 0,
      "outputs": []
    },
    {
      "cell_type": "code",
      "metadata": {
        "id": "5M1k20RNBhoQ",
        "colab_type": "code",
        "colab": {}
      },
      "source": [
        "tset, pval = ttest_1samp(iris['petal_width'], 26)"
      ],
      "execution_count": 0,
      "outputs": []
    },
    {
      "cell_type": "code",
      "metadata": {
        "id": "bccEuSXhBzSn",
        "colab_type": "code",
        "outputId": "f66cb92a-f4ac-4bd4-d55c-84f116093306",
        "colab": {
          "base_uri": "https://localhost:8080/",
          "height": 51
        }
      },
      "source": [
        "print('p-values', pval)\n",
        "if pval < 0.05:    # alpha value is 0.05 or 5%\n",
        "   print(\" we are rejecting null hypothesis\")\n",
        "else:\n",
        "  print(\"we are accepting null hypothesis\")"
      ],
      "execution_count": 15,
      "outputs": [
        {
          "output_type": "stream",
          "text": [
            "p-values 1.999810779949752e-227\n",
            " we are rejecting null hypothesis\n"
          ],
          "name": "stdout"
        }
      ]
    },
    {
      "cell_type": "markdown",
      "metadata": {
        "id": "W9NBc0D-CCmi",
        "colab_type": "text"
      },
      "source": [
        "**Numerical And Categorical**"
      ]
    },
    {
      "cell_type": "code",
      "metadata": {
        "id": "0SZyd4uoCJKO",
        "colab_type": "code",
        "colab": {}
      },
      "source": [
        "iris_setosa=iris.loc[iris[\"type\"]==\"Iris-setosa\"]\n",
        "iris_virginica=iris.loc[iris[\"type\"]==\"Iris-virginica\"]\n",
        "iris_versicolor=iris.loc[iris[\"type\"]==\"Iris-versicolor\"]"
      ],
      "execution_count": 0,
      "outputs": []
    },
    {
      "cell_type": "code",
      "metadata": {
        "id": "FteBDaY-CLt1",
        "colab_type": "code",
        "outputId": "1e58bf34-d62b-48ae-c5e6-101899f47716",
        "colab": {
          "base_uri": "https://localhost:8080/",
          "height": 259
        }
      },
      "source": [
        "sns.FacetGrid(iris,hue=\"type\",size=3).map(sns.distplot,\"petal_length\").add_legend()\n",
        "plt.show()"
      ],
      "execution_count": 17,
      "outputs": [
        {
          "output_type": "stream",
          "text": [
            "/usr/local/lib/python3.6/dist-packages/seaborn/axisgrid.py:230: UserWarning: The `size` paramter has been renamed to `height`; please update your code.\n",
            "  warnings.warn(msg, UserWarning)\n"
          ],
          "name": "stderr"
        },
        {
          "output_type": "display_data",
          "data": {
            "image/png": "[encoded data removed]",
            "text/plain": [
              "<Figure size 319.5x216 with 1 Axes>"
            ]
          },
          "metadata": {
            "tags": []
          }
        }
      ]
    },
    {
      "cell_type": "markdown",
      "metadata": {
        "id": "cbs2GZRjCV_w",
        "colab_type": "text"
      },
      "source": [
        "Observation: There is a difference of petal_length between Iris-setosa, Iris-versicolor and Iris-virginica\n",
        "\n",
        "* Ho = There is NOT\n",
        "* Ha = There is \n",
        "\n",
        "ANOVA"
      ]
    },
    {
      "cell_type": "code",
      "metadata": {
        "id": "YVjrH3MPCu2W",
        "colab_type": "code",
        "outputId": "6d158ff2-81ae-4f20-e2df-0d2c06d51229",
        "colab": {
          "base_uri": "https://localhost:8080/",
          "height": 51
        }
      },
      "source": [
        "F, p = stats.f_oneway(iris_versicolor['sepal_width'], iris_virginica['sepal_width'], iris_setosa['sepal_width'])\n",
        "print(\"p-value for significance is: \", p)\n",
        "if p<0.05:\n",
        "    print(\"reject null hypothesis\")\n",
        "else:\n",
        "    print(\"accept null hypothesis\")"
      ],
      "execution_count": 18,
      "outputs": [
        {
          "output_type": "stream",
          "text": [
            "p-value for significance is:  1.3279165184572065e-16\n",
            "reject null hypothesis\n"
          ],
          "name": "stdout"
        }
      ]
    },
    {
      "cell_type": "markdown",
      "metadata": {
        "id": "p25CS0YDC3R1",
        "colab_type": "text"
      },
      "source": [
        "**Numerical Attributes**\n",
        "\n",
        "* Histogram\n",
        "* Correlation\n",
        "* Pairplots\n",
        "* Scatter"
      ]
    },
    {
      "cell_type": "code",
      "metadata": {
        "id": "jD3KGghAIMcB",
        "colab_type": "code",
        "outputId": "61c874fc-82d7-4e5f-a3a7-972181bbdf25",
        "colab": {
          "base_uri": "https://localhost:8080/",
          "height": 903
        }
      },
      "source": [
        "sns.set_style(\"whitegrid\")\n",
        "sns.pairplot(iris,size=3);\n",
        "plt.show()"
      ],
      "execution_count": 19,
      "outputs": [
        {
          "output_type": "stream",
          "text": [
            "/usr/local/lib/python3.6/dist-packages/seaborn/axisgrid.py:2065: UserWarning: The `size` parameter has been renamed to `height`; pleaes update your code.\n",
            "  warnings.warn(msg, UserWarning)\n"
          ],
          "name": "stderr"
        },
        {
          "output_type": "display_data",
          "data": {
            "image/png": "[encoded data removed]",
            "text/plain": [
              "<Figure size 864x864 with 20 Axes>"
            ]
          },
          "metadata": {
            "tags": []
          }
        }
      ]
    },
    {
      "cell_type": "code",
      "metadata": {
        "id": "Tw9CXGXlIPtK",
        "colab_type": "code",
        "outputId": "33bd39a5-66fd-4e6f-ebef-98afd81ea002",
        "colab": {
          "base_uri": "https://localhost:8080/",
          "height": 287
        }
      },
      "source": [
        "correlation_matrix = iris.corr().round(2)\n",
        "# annot = True to print the values inside the square\n",
        "sns.heatmap(data=correlation_matrix, annot=True)"
      ],
      "execution_count": 20,
      "outputs": [
        {
          "output_type": "execute_result",
          "data": {
            "text/plain": [
              "<matplotlib.axes._subplots.AxesSubplot at 0x7f652f45b9e8>"
            ]
          },
          "metadata": {
            "tags": []
          },
          "execution_count": 20
        },
        {
          "output_type": "display_data",
          "data": {
            "image/png": "[encoded data removed]",
            "text/plain": [
              "<Figure size 432x288 with 2 Axes>"
            ]
          },
          "metadata": {
            "tags": []
          }
        }
      ]
    },
    {
      "cell_type": "markdown",
      "metadata": {
        "id": "JMJXYEc3Kquf",
        "colab_type": "text"
      },
      "source": [
        "**Regression**\n",
        "\n",
        "Simple Linear Regression"
      ]
    },
    {
      "cell_type": "code",
      "metadata": {
        "id": "gQItpyVKK_Jq",
        "colab_type": "code",
        "colab": {}
      },
      "source": [
        "from sklearn.model_selection import train_test_split \n",
        "from sklearn.linear_model import LinearRegression\n",
        "from sklearn import metrics\n",
        "%matplotlib inline"
      ],
      "execution_count": 0,
      "outputs": []
    },
    {
      "cell_type": "code",
      "metadata": {
        "id": "InlAOrfsLI_o",
        "colab_type": "code",
        "colab": {}
      },
      "source": [
        "X = iris['sepal_length'].values.reshape(-1,1) #predictors\n",
        "\n",
        "y = iris['petal_width'].values.reshape(-1,1) #target"
      ],
      "execution_count": 0,
      "outputs": []
    },
    {
      "cell_type": "code",
      "metadata": {
        "id": "OWIft8TrLlwH",
        "colab_type": "code",
        "colab": {}
      },
      "source": [
        "regressor = LinearRegression() #define the model"
      ],
      "execution_count": 0,
      "outputs": []
    },
    {
      "cell_type": "code",
      "metadata": {
        "id": "wgAeWfZhL0N4",
        "colab_type": "code",
        "outputId": "fa849028-b7e3-4c0a-93f0-2a5d09042685",
        "colab": {
          "base_uri": "https://localhost:8080/",
          "height": 34
        }
      },
      "source": [
        "regressor.fit(X,y) #fit the model on predictors and target variables"
      ],
      "execution_count": 24,
      "outputs": [
        {
          "output_type": "execute_result",
          "data": {
            "text/plain": [
              "LinearRegression(copy_X=True, fit_intercept=True, n_jobs=None, normalize=False)"
            ]
          },
          "metadata": {
            "tags": []
          },
          "execution_count": 24
        }
      ]
    },
    {
      "cell_type": "code",
      "metadata": {
        "id": "oRMOKjDqMP09",
        "colab_type": "code",
        "outputId": "e024251b-cd48-4e69-a98f-c751ea1f184f",
        "colab": {
          "base_uri": "https://localhost:8080/",
          "height": 34
        }
      },
      "source": [
        "regressor.intercept_"
      ],
      "execution_count": 25,
      "outputs": [
        {
          "output_type": "execute_result",
          "data": {
            "text/plain": [
              "array([-3.2062769])"
            ]
          },
          "metadata": {
            "tags": []
          },
          "execution_count": 25
        }
      ]
    },
    {
      "cell_type": "code",
      "metadata": {
        "id": "YvRI6Nn2MZWT",
        "colab_type": "code",
        "outputId": "9afb0356-82cc-4827-bebb-d8e8bd58d6a8",
        "colab": {
          "base_uri": "https://localhost:8080/",
          "height": 34
        }
      },
      "source": [
        "print(regressor.coef_)"
      ],
      "execution_count": 26,
      "outputs": [
        {
          "output_type": "stream",
          "text": [
            "[[0.75384088]]\n"
          ],
          "name": "stdout"
        }
      ]
    },
    {
      "cell_type": "code",
      "metadata": {
        "id": "0DHnb5bBMeen",
        "colab_type": "code",
        "colab": {}
      },
      "source": [
        "y_pred = regressor.predict(X)"
      ],
      "execution_count": 0,
      "outputs": []
    },
    {
      "cell_type": "code",
      "metadata": {
        "id": "vuIJ3j1wMq2F",
        "colab_type": "code",
        "outputId": "66984150-cd6b-4ac9-de7e-375636dec5b3",
        "colab": {
          "base_uri": "https://localhost:8080/",
          "height": 265
        }
      },
      "source": [
        "plt.scatter(X, y,  color='gray')\n",
        "plt.plot(X, y_pred, color='red', linewidth=2)\n",
        "plt.show()"
      ],
      "execution_count": 28,
      "outputs": [
        {
          "output_type": "display_data",
          "data": {
            "image/png": "[encoded data removed]",
            "text/plain": [
              "<Figure size 432x288 with 1 Axes>"
            ]
          },
          "metadata": {
            "tags": []
          }
        }
      ]
    },
    {
      "cell_type": "code",
      "metadata": {
        "id": "AXKJS8RHNDUK",
        "colab_type": "code",
        "outputId": "d555417d-1617-49b3-d31e-08ff602e7c09",
        "colab": {
          "base_uri": "https://localhost:8080/",
          "height": 85
        }
      },
      "source": [
        "#model evaluation for training set\n",
        "\n",
        "print('Mean Absolute Error:', metrics.mean_absolute_error(y, y_pred))  \n",
        "print('Mean Squared Error:', metrics.mean_squared_error(y, y_pred))  \n",
        "print('Root Mean Squared Error:', np.sqrt(metrics.mean_squared_error(y, y_pred)))\n",
        "print('R2 score:', metrics.r2_score(y, y_pred))"
      ],
      "execution_count": 29,
      "outputs": [
        {
          "output_type": "stream",
          "text": [
            "Mean Absolute Error: 0.36005144016138946\n",
            "Mean Squared Error: 0.19146609071086385\n",
            "Root Mean Squared Error: 0.4375683840394137\n",
            "R2 score: 0.6690481463418159\n"
          ],
          "name": "stdout"
        }
      ]
    },
    {
      "cell_type": "markdown",
      "metadata": {
        "id": "hr2K3zzYNZCR",
        "colab_type": "text"
      },
      "source": [
        "**Multiple Linear Regression**"
      ]
    },
    {
      "cell_type": "code",
      "metadata": {
        "id": "CuF76iYyNgMJ",
        "colab_type": "code",
        "colab": {}
      },
      "source": [
        "y = iris['petal_width'].values #this is our target\n",
        "\n",
        "X = iris[['sepal_length', 'sepal_width']].values #predictors"
      ],
      "execution_count": 0,
      "outputs": []
    },
    {
      "cell_type": "code",
      "metadata": {
        "id": "wbZSxPSXN1Q7",
        "colab_type": "code",
        "colab": {}
      },
      "source": [
        "regressor2 = LinearRegression()"
      ],
      "execution_count": 0,
      "outputs": []
    },
    {
      "cell_type": "code",
      "metadata": {
        "id": "5v6knbGZN5Iu",
        "colab_type": "code",
        "outputId": "88f6d266-a0f3-4fb0-e00f-e37316102813",
        "colab": {
          "base_uri": "https://localhost:8080/",
          "height": 34
        }
      },
      "source": [
        "regressor2.fit(X,y)"
      ],
      "execution_count": 32,
      "outputs": [
        {
          "output_type": "execute_result",
          "data": {
            "text/plain": [
              "LinearRegression(copy_X=True, fit_intercept=True, n_jobs=None, normalize=False)"
            ]
          },
          "metadata": {
            "tags": []
          },
          "execution_count": 32
        }
      ]
    },
    {
      "cell_type": "code",
      "metadata": {
        "id": "syr4iGFAN_3j",
        "colab_type": "code",
        "outputId": "42bda85f-bcea-4b89-b5d6-122ec57e553a",
        "colab": {
          "base_uri": "https://localhost:8080/",
          "height": 111
        }
      },
      "source": [
        "coeff_df = pd.DataFrame(regressor2.coef_ )  \n",
        "coeff_df"
      ],
      "execution_count": 33,
      "outputs": [
        {
          "output_type": "execute_result",
          "data": {
            "text/html": [
              "<div>\n",
              "<style scoped>\n",
              "    .dataframe tbody tr th:only-of-type {\n",
              "        vertical-align: middle;\n",
              "    }\n",
              "\n",
              "    .dataframe tbody tr th {\n",
              "        vertical-align: top;\n",
              "    }\n",
              "\n",
              "    .dataframe thead th {\n",
              "        text-align: right;\n",
              "    }\n",
              "</style>\n",
              "<table border=\"1\" class=\"dataframe\">\n",
              "  <thead>\n",
              "    <tr style=\"text-align: right;\">\n",
              "      <th></th>\n",
              "      <th>0</th>\n",
              "    </tr>\n",
              "  </thead>\n",
              "  <tbody>\n",
              "    <tr>\n",
              "      <th>0</th>\n",
              "      <td>0.726594</td>\n",
              "    </tr>\n",
              "    <tr>\n",
              "      <th>1</th>\n",
              "      <td>-0.475782</td>\n",
              "    </tr>\n",
              "  </tbody>\n",
              "</table>\n",
              "</div>"
            ],
            "text/plain": [
              "          0\n",
              "0  0.726594\n",
              "1 -0.475782"
            ]
          },
          "metadata": {
            "tags": []
          },
          "execution_count": 33
        }
      ]
    },
    {
      "cell_type": "code",
      "metadata": {
        "id": "2FKmVYreOLI-",
        "colab_type": "code",
        "outputId": "92c6f8b3-4d93-4730-c70f-88ad7d9daf6b",
        "colab": {
          "base_uri": "https://localhost:8080/",
          "height": 34
        }
      },
      "source": [
        "regressor2.intercept_"
      ],
      "execution_count": 34,
      "outputs": [
        {
          "output_type": "execute_result",
          "data": {
            "text/plain": [
              "-1.594023066327346"
            ]
          },
          "metadata": {
            "tags": []
          },
          "execution_count": 34
        }
      ]
    },
    {
      "cell_type": "code",
      "metadata": {
        "id": "DhIPTqjtOd58",
        "colab_type": "code",
        "outputId": "e4800f98-612f-4ab2-f931-8d2a624e93e4",
        "colab": {
          "base_uri": "https://localhost:8080/",
          "height": 204
        }
      },
      "source": [
        "y_pred = regressor2.predict(X)\n",
        "dftest = pd.DataFrame({'Actual': y, 'Predicted': y_pred})\n",
        "df1 = dftest.head(25)\n",
        "df1.head()"
      ],
      "execution_count": 35,
      "outputs": [
        {
          "output_type": "execute_result",
          "data": {
            "text/html": [
              "<div>\n",
              "<style scoped>\n",
              "    .dataframe tbody tr th:only-of-type {\n",
              "        vertical-align: middle;\n",
              "    }\n",
              "\n",
              "    .dataframe tbody tr th {\n",
              "        vertical-align: top;\n",
              "    }\n",
              "\n",
              "    .dataframe thead th {\n",
              "        text-align: right;\n",
              "    }\n",
              "</style>\n",
              "<table border=\"1\" class=\"dataframe\">\n",
              "  <thead>\n",
              "    <tr style=\"text-align: right;\">\n",
              "      <th></th>\n",
              "      <th>Actual</th>\n",
              "      <th>Predicted</th>\n",
              "    </tr>\n",
              "  </thead>\n",
              "  <tbody>\n",
              "    <tr>\n",
              "      <th>0</th>\n",
              "      <td>0.2</td>\n",
              "      <td>0.446366</td>\n",
              "    </tr>\n",
              "    <tr>\n",
              "      <th>1</th>\n",
              "      <td>0.2</td>\n",
              "      <td>0.538939</td>\n",
              "    </tr>\n",
              "    <tr>\n",
              "      <th>2</th>\n",
              "      <td>0.2</td>\n",
              "      <td>0.298464</td>\n",
              "    </tr>\n",
              "    <tr>\n",
              "      <th>3</th>\n",
              "      <td>0.2</td>\n",
              "      <td>0.273383</td>\n",
              "    </tr>\n",
              "    <tr>\n",
              "      <th>4</th>\n",
              "      <td>0.2</td>\n",
              "      <td>0.326129</td>\n",
              "    </tr>\n",
              "  </tbody>\n",
              "</table>\n",
              "</div>"
            ],
            "text/plain": [
              "   Actual  Predicted\n",
              "0     0.2   0.446366\n",
              "1     0.2   0.538939\n",
              "2     0.2   0.298464\n",
              "3     0.2   0.273383\n",
              "4     0.2   0.326129"
            ]
          },
          "metadata": {
            "tags": []
          },
          "execution_count": 35
        }
      ]
    },
    {
      "cell_type": "code",
      "metadata": {
        "id": "pEdsU-m-Ol_w",
        "colab_type": "code",
        "outputId": "07e5e627-dd82-441d-a747-706f552bf104",
        "colab": {
          "base_uri": "https://localhost:8080/",
          "height": 486
        }
      },
      "source": [
        "df1.plot(kind='bar',figsize=(10,8))\n",
        "plt.grid(which='major', linestyle='-', linewidth='0.5', color='green')\n",
        "plt.grid(which='minor', linestyle=':', linewidth='0.5', color='black')\n",
        "plt.show()"
      ],
      "execution_count": 36,
      "outputs": [
        {
          "output_type": "display_data",
          "data": {
            "image/png": "[encoded data removed]",
            "text/plain": [
              "<Figure size 720x576 with 1 Axes>"
            ]
          },
          "metadata": {
            "tags": []
          }
        }
      ]
    },
    {
      "cell_type": "code",
      "metadata": {
        "id": "E7GZtwxNOwp6",
        "colab_type": "code",
        "outputId": "0250d196-32f4-4ffa-efcd-554342dedfdc",
        "colab": {
          "base_uri": "https://localhost:8080/",
          "height": 85
        }
      },
      "source": [
        "#model evaluation for training set\n",
        "\n",
        "print('Mean Absolute Error:', metrics.mean_absolute_error(y, y_pred))  \n",
        "print('Mean Squared Error:', metrics.mean_squared_error(y, y_pred))  \n",
        "print('Root Mean Squared Error:', np.sqrt(metrics.mean_squared_error(y, y_pred)))\n",
        "print('R2 score:', metrics.r2_score(y, y_pred))"
      ],
      "execution_count": 37,
      "outputs": [
        {
          "output_type": "stream",
          "text": [
            "Mean Absolute Error: 0.3075849361842316\n",
            "Mean Squared Error: 0.14969723186280046\n",
            "Root Mean Squared Error: 0.38690726519774793\n",
            "R2 score: 0.7412462113340588\n"
          ],
          "name": "stdout"
        }
      ]
    },
    {
      "cell_type": "markdown",
      "metadata": {
        "id": "IeGT6eouPQne",
        "colab_type": "text"
      },
      "source": [
        "**Classification**"
      ]
    },
    {
      "cell_type": "code",
      "metadata": {
        "id": "yVZtiTT3QBKu",
        "colab_type": "code",
        "colab": {}
      },
      "source": [
        "import matplotlib.pyplot as plt  \n",
        "import pandas as pd  \n",
        "#importing the necessary packages  \n",
        "from sklearn.model_selection import train_test_split  \n",
        "from sklearn.naive_bayes import GaussianNB \n",
        "from sklearn.naive_bayes import MultinomialNB \n",
        "\n",
        "from inspect import signature\n",
        "\n",
        "import sklearn\n",
        "from sklearn import linear_model, dummy, metrics\n",
        "from sklearn.dummy import DummyClassifier\n",
        "from sklearn.metrics import *\n",
        "\n",
        "import seaborn as sns"
      ],
      "execution_count": 0,
      "outputs": []
    },
    {
      "cell_type": "code",
      "metadata": {
        "id": "YhJpZKLIQDtT",
        "colab_type": "code",
        "outputId": "2c0ea069-63e7-40d6-f42d-a0c8ec81ee0e",
        "colab": {
          "base_uri": "https://localhost:8080/",
          "height": 204
        }
      },
      "source": [
        "#downloading the iris dataset, splitting it into train set and validation set \n",
        "url = 'https://archive.ics.uci.edu/ml/machine-learning-databases/iris/iris.data'\n",
        "col=['sepal_length','sepal_width','petal_length','petal_width','type']\n",
        "\n",
        "df = pd.read_csv(url, names = col)\n",
        "\n",
        "# Print first 5 rows of the dataframe\n",
        "df.head()"
      ],
      "execution_count": 39,
      "outputs": [
        {
          "output_type": "execute_result",
          "data": {
            "text/html": [
              "<div>\n",
              "<style scoped>\n",
              "    .dataframe tbody tr th:only-of-type {\n",
              "        vertical-align: middle;\n",
              "    }\n",
              "\n",
              "    .dataframe tbody tr th {\n",
              "        vertical-align: top;\n",
              "    }\n",
              "\n",
              "    .dataframe thead th {\n",
              "        text-align: right;\n",
              "    }\n",
              "</style>\n",
              "<table border=\"1\" class=\"dataframe\">\n",
              "  <thead>\n",
              "    <tr style=\"text-align: right;\">\n",
              "      <th></th>\n",
              "      <th>sepal_length</th>\n",
              "      <th>sepal_width</th>\n",
              "      <th>petal_length</th>\n",
              "      <th>petal_width</th>\n",
              "      <th>type</th>\n",
              "    </tr>\n",
              "  </thead>\n",
              "  <tbody>\n",
              "    <tr>\n",
              "      <th>0</th>\n",
              "      <td>5.1</td>\n",
              "      <td>3.5</td>\n",
              "      <td>1.4</td>\n",
              "      <td>0.2</td>\n",
              "      <td>Iris-setosa</td>\n",
              "    </tr>\n",
              "    <tr>\n",
              "      <th>1</th>\n",
              "      <td>4.9</td>\n",
              "      <td>3.0</td>\n",
              "      <td>1.4</td>\n",
              "      <td>0.2</td>\n",
              "      <td>Iris-setosa</td>\n",
              "    </tr>\n",
              "    <tr>\n",
              "      <th>2</th>\n",
              "      <td>4.7</td>\n",
              "      <td>3.2</td>\n",
              "      <td>1.3</td>\n",
              "      <td>0.2</td>\n",
              "      <td>Iris-setosa</td>\n",
              "    </tr>\n",
              "    <tr>\n",
              "      <th>3</th>\n",
              "      <td>4.6</td>\n",
              "      <td>3.1</td>\n",
              "      <td>1.5</td>\n",
              "      <td>0.2</td>\n",
              "      <td>Iris-setosa</td>\n",
              "    </tr>\n",
              "    <tr>\n",
              "      <th>4</th>\n",
              "      <td>5.0</td>\n",
              "      <td>3.6</td>\n",
              "      <td>1.4</td>\n",
              "      <td>0.2</td>\n",
              "      <td>Iris-setosa</td>\n",
              "    </tr>\n",
              "  </tbody>\n",
              "</table>\n",
              "</div>"
            ],
            "text/plain": [
              "   sepal_length  sepal_width  petal_length  petal_width         type\n",
              "0           5.1          3.5           1.4          0.2  Iris-setosa\n",
              "1           4.9          3.0           1.4          0.2  Iris-setosa\n",
              "2           4.7          3.2           1.3          0.2  Iris-setosa\n",
              "3           4.6          3.1           1.5          0.2  Iris-setosa\n",
              "4           5.0          3.6           1.4          0.2  Iris-setosa"
            ]
          },
          "metadata": {
            "tags": []
          },
          "execution_count": 39
        }
      ]
    },
    {
      "cell_type": "code",
      "metadata": {
        "id": "T-k4S0AEQLW_",
        "colab_type": "code",
        "outputId": "016ef3dc-3740-4604-d793-ebc0e13f829f",
        "colab": {
          "base_uri": "https://localhost:8080/",
          "height": 204
        }
      },
      "source": [
        "df2 = df\n",
        "df2['type']  = df2['type'].replace({'Iris-setosa': 0})\n",
        "df2['type']  = df2['type'].replace({'Iris-versicolor': 1})\n",
        "df2['type']  = df2['type'].replace({'Iris-virginica': 2})\n",
        "df2.head()"
      ],
      "execution_count": 40,
      "outputs": [
        {
          "output_type": "execute_result",
          "data": {
            "text/html": [
              "<div>\n",
              "<style scoped>\n",
              "    .dataframe tbody tr th:only-of-type {\n",
              "        vertical-align: middle;\n",
              "    }\n",
              "\n",
              "    .dataframe tbody tr th {\n",
              "        vertical-align: top;\n",
              "    }\n",
              "\n",
              "    .dataframe thead th {\n",
              "        text-align: right;\n",
              "    }\n",
              "</style>\n",
              "<table border=\"1\" class=\"dataframe\">\n",
              "  <thead>\n",
              "    <tr style=\"text-align: right;\">\n",
              "      <th></th>\n",
              "      <th>sepal_length</th>\n",
              "      <th>sepal_width</th>\n",
              "      <th>petal_length</th>\n",
              "      <th>petal_width</th>\n",
              "      <th>type</th>\n",
              "    </tr>\n",
              "  </thead>\n",
              "  <tbody>\n",
              "    <tr>\n",
              "      <th>0</th>\n",
              "      <td>5.1</td>\n",
              "      <td>3.5</td>\n",
              "      <td>1.4</td>\n",
              "      <td>0.2</td>\n",
              "      <td>0</td>\n",
              "    </tr>\n",
              "    <tr>\n",
              "      <th>1</th>\n",
              "      <td>4.9</td>\n",
              "      <td>3.0</td>\n",
              "      <td>1.4</td>\n",
              "      <td>0.2</td>\n",
              "      <td>0</td>\n",
              "    </tr>\n",
              "    <tr>\n",
              "      <th>2</th>\n",
              "      <td>4.7</td>\n",
              "      <td>3.2</td>\n",
              "      <td>1.3</td>\n",
              "      <td>0.2</td>\n",
              "      <td>0</td>\n",
              "    </tr>\n",
              "    <tr>\n",
              "      <th>3</th>\n",
              "      <td>4.6</td>\n",
              "      <td>3.1</td>\n",
              "      <td>1.5</td>\n",
              "      <td>0.2</td>\n",
              "      <td>0</td>\n",
              "    </tr>\n",
              "    <tr>\n",
              "      <th>4</th>\n",
              "      <td>5.0</td>\n",
              "      <td>3.6</td>\n",
              "      <td>1.4</td>\n",
              "      <td>0.2</td>\n",
              "      <td>0</td>\n",
              "    </tr>\n",
              "  </tbody>\n",
              "</table>\n",
              "</div>"
            ],
            "text/plain": [
              "   sepal_length  sepal_width  petal_length  petal_width  type\n",
              "0           5.1          3.5           1.4          0.2     0\n",
              "1           4.9          3.0           1.4          0.2     0\n",
              "2           4.7          3.2           1.3          0.2     0\n",
              "3           4.6          3.1           1.5          0.2     0\n",
              "4           5.0          3.6           1.4          0.2     0"
            ]
          },
          "metadata": {
            "tags": []
          },
          "execution_count": 40
        }
      ]
    },
    {
      "cell_type": "code",
      "metadata": {
        "id": "a2qcB0uFQTay",
        "colab_type": "code",
        "outputId": "0b422db3-0a8f-4bee-80fe-e0d8a951e365",
        "colab": {
          "base_uri": "https://localhost:8080/",
          "height": 224
        }
      },
      "source": [
        "t1 = pd.crosstab(df['type'], df['sepal_length'])\n",
        "t1['Total'] = t1.sum(axis=1)\n",
        "t1.loc['Total'] = t1.sum()\n",
        "t1"
      ],
      "execution_count": 41,
      "outputs": [
        {
          "output_type": "execute_result",
          "data": {
            "text/html": [
              "<div>\n",
              "<style scoped>\n",
              "    .dataframe tbody tr th:only-of-type {\n",
              "        vertical-align: middle;\n",
              "    }\n",
              "\n",
              "    .dataframe tbody tr th {\n",
              "        vertical-align: top;\n",
              "    }\n",
              "\n",
              "    .dataframe thead th {\n",
              "        text-align: right;\n",
              "    }\n",
              "</style>\n",
              "<table border=\"1\" class=\"dataframe\">\n",
              "  <thead>\n",
              "    <tr style=\"text-align: right;\">\n",
              "      <th>sepal_length</th>\n",
              "      <th>4.3</th>\n",
              "      <th>4.4</th>\n",
              "      <th>4.5</th>\n",
              "      <th>4.6</th>\n",
              "      <th>4.7</th>\n",
              "      <th>4.8</th>\n",
              "      <th>4.9</th>\n",
              "      <th>5.0</th>\n",
              "      <th>5.1</th>\n",
              "      <th>5.2</th>\n",
              "      <th>5.3</th>\n",
              "      <th>5.4</th>\n",
              "      <th>5.5</th>\n",
              "      <th>5.6</th>\n",
              "      <th>5.7</th>\n",
              "      <th>5.8</th>\n",
              "      <th>5.9</th>\n",
              "      <th>6.0</th>\n",
              "      <th>6.1</th>\n",
              "      <th>6.2</th>\n",
              "      <th>6.3</th>\n",
              "      <th>6.4</th>\n",
              "      <th>6.5</th>\n",
              "      <th>6.6</th>\n",
              "      <th>6.7</th>\n",
              "      <th>6.8</th>\n",
              "      <th>6.9</th>\n",
              "      <th>7.0</th>\n",
              "      <th>7.1</th>\n",
              "      <th>7.2</th>\n",
              "      <th>7.3</th>\n",
              "      <th>7.4</th>\n",
              "      <th>7.6</th>\n",
              "      <th>7.7</th>\n",
              "      <th>7.9</th>\n",
              "      <th>Total</th>\n",
              "    </tr>\n",
              "    <tr>\n",
              "      <th>type</th>\n",
              "      <th></th>\n",
              "      <th></th>\n",
              "      <th></th>\n",
              "      <th></th>\n",
              "      <th></th>\n",
              "      <th></th>\n",
              "      <th></th>\n",
              "      <th></th>\n",
              "      <th></th>\n",
              "      <th></th>\n",
              "      <th></th>\n",
              "      <th></th>\n",
              "      <th></th>\n",
              "      <th></th>\n",
              "      <th></th>\n",
              "      <th></th>\n",
              "      <th></th>\n",
              "      <th></th>\n",
              "      <th></th>\n",
              "      <th></th>\n",
              "      <th></th>\n",
              "      <th></th>\n",
              "      <th></th>\n",
              "      <th></th>\n",
              "      <th></th>\n",
              "      <th></th>\n",
              "      <th></th>\n",
              "      <th></th>\n",
              "      <th></th>\n",
              "      <th></th>\n",
              "      <th></th>\n",
              "      <th></th>\n",
              "      <th></th>\n",
              "      <th></th>\n",
              "      <th></th>\n",
              "      <th></th>\n",
              "    </tr>\n",
              "  </thead>\n",
              "  <tbody>\n",
              "    <tr>\n",
              "      <th>0</th>\n",
              "      <td>1</td>\n",
              "      <td>3</td>\n",
              "      <td>1</td>\n",
              "      <td>4</td>\n",
              "      <td>2</td>\n",
              "      <td>5</td>\n",
              "      <td>4</td>\n",
              "      <td>8</td>\n",
              "      <td>8</td>\n",
              "      <td>3</td>\n",
              "      <td>1</td>\n",
              "      <td>5</td>\n",
              "      <td>2</td>\n",
              "      <td>0</td>\n",
              "      <td>2</td>\n",
              "      <td>1</td>\n",
              "      <td>0</td>\n",
              "      <td>0</td>\n",
              "      <td>0</td>\n",
              "      <td>0</td>\n",
              "      <td>0</td>\n",
              "      <td>0</td>\n",
              "      <td>0</td>\n",
              "      <td>0</td>\n",
              "      <td>0</td>\n",
              "      <td>0</td>\n",
              "      <td>0</td>\n",
              "      <td>0</td>\n",
              "      <td>0</td>\n",
              "      <td>0</td>\n",
              "      <td>0</td>\n",
              "      <td>0</td>\n",
              "      <td>0</td>\n",
              "      <td>0</td>\n",
              "      <td>0</td>\n",
              "      <td>50</td>\n",
              "    </tr>\n",
              "    <tr>\n",
              "      <th>1</th>\n",
              "      <td>0</td>\n",
              "      <td>0</td>\n",
              "      <td>0</td>\n",
              "      <td>0</td>\n",
              "      <td>0</td>\n",
              "      <td>0</td>\n",
              "      <td>1</td>\n",
              "      <td>2</td>\n",
              "      <td>1</td>\n",
              "      <td>1</td>\n",
              "      <td>0</td>\n",
              "      <td>1</td>\n",
              "      <td>5</td>\n",
              "      <td>5</td>\n",
              "      <td>5</td>\n",
              "      <td>3</td>\n",
              "      <td>2</td>\n",
              "      <td>4</td>\n",
              "      <td>4</td>\n",
              "      <td>2</td>\n",
              "      <td>3</td>\n",
              "      <td>2</td>\n",
              "      <td>1</td>\n",
              "      <td>2</td>\n",
              "      <td>3</td>\n",
              "      <td>1</td>\n",
              "      <td>1</td>\n",
              "      <td>1</td>\n",
              "      <td>0</td>\n",
              "      <td>0</td>\n",
              "      <td>0</td>\n",
              "      <td>0</td>\n",
              "      <td>0</td>\n",
              "      <td>0</td>\n",
              "      <td>0</td>\n",
              "      <td>50</td>\n",
              "    </tr>\n",
              "    <tr>\n",
              "      <th>2</th>\n",
              "      <td>0</td>\n",
              "      <td>0</td>\n",
              "      <td>0</td>\n",
              "      <td>0</td>\n",
              "      <td>0</td>\n",
              "      <td>0</td>\n",
              "      <td>1</td>\n",
              "      <td>0</td>\n",
              "      <td>0</td>\n",
              "      <td>0</td>\n",
              "      <td>0</td>\n",
              "      <td>0</td>\n",
              "      <td>0</td>\n",
              "      <td>1</td>\n",
              "      <td>1</td>\n",
              "      <td>3</td>\n",
              "      <td>1</td>\n",
              "      <td>2</td>\n",
              "      <td>2</td>\n",
              "      <td>2</td>\n",
              "      <td>6</td>\n",
              "      <td>5</td>\n",
              "      <td>4</td>\n",
              "      <td>0</td>\n",
              "      <td>5</td>\n",
              "      <td>2</td>\n",
              "      <td>3</td>\n",
              "      <td>0</td>\n",
              "      <td>1</td>\n",
              "      <td>3</td>\n",
              "      <td>1</td>\n",
              "      <td>1</td>\n",
              "      <td>1</td>\n",
              "      <td>4</td>\n",
              "      <td>1</td>\n",
              "      <td>50</td>\n",
              "    </tr>\n",
              "    <tr>\n",
              "      <th>Total</th>\n",
              "      <td>1</td>\n",
              "      <td>3</td>\n",
              "      <td>1</td>\n",
              "      <td>4</td>\n",
              "      <td>2</td>\n",
              "      <td>5</td>\n",
              "      <td>6</td>\n",
              "      <td>10</td>\n",
              "      <td>9</td>\n",
              "      <td>4</td>\n",
              "      <td>1</td>\n",
              "      <td>6</td>\n",
              "      <td>7</td>\n",
              "      <td>6</td>\n",
              "      <td>8</td>\n",
              "      <td>7</td>\n",
              "      <td>3</td>\n",
              "      <td>6</td>\n",
              "      <td>6</td>\n",
              "      <td>4</td>\n",
              "      <td>9</td>\n",
              "      <td>7</td>\n",
              "      <td>5</td>\n",
              "      <td>2</td>\n",
              "      <td>8</td>\n",
              "      <td>3</td>\n",
              "      <td>4</td>\n",
              "      <td>1</td>\n",
              "      <td>1</td>\n",
              "      <td>3</td>\n",
              "      <td>1</td>\n",
              "      <td>1</td>\n",
              "      <td>1</td>\n",
              "      <td>4</td>\n",
              "      <td>1</td>\n",
              "      <td>150</td>\n",
              "    </tr>\n",
              "  </tbody>\n",
              "</table>\n",
              "</div>"
            ],
            "text/plain": [
              "sepal_length  4.3  4.4  4.5  4.6  4.7  4.8  ...  7.3  7.4  7.6  7.7  7.9  Total\n",
              "type                                        ...                                \n",
              "0               1    3    1    4    2    5  ...    0    0    0    0    0     50\n",
              "1               0    0    0    0    0    0  ...    0    0    0    0    0     50\n",
              "2               0    0    0    0    0    0  ...    1    1    1    4    1     50\n",
              "Total           1    3    1    4    2    5  ...    1    1    1    4    1    150\n",
              "\n",
              "[4 rows x 36 columns]"
            ]
          },
          "metadata": {
            "tags": []
          },
          "execution_count": 41
        }
      ]
    },
    {
      "cell_type": "code",
      "metadata": {
        "id": "SgFqBYEuQVn_",
        "colab_type": "code",
        "outputId": "feecce6f-5044-4378-83ea-2329db65aae1",
        "colab": {
          "base_uri": "https://localhost:8080/",
          "height": 303
        }
      },
      "source": [
        "t1_plot = pd.crosstab(df['sepal_length'], df['type'])\n",
        "t1_plot.plot(kind='bar', stacked = True)"
      ],
      "execution_count": 42,
      "outputs": [
        {
          "output_type": "execute_result",
          "data": {
            "text/plain": [
              "<matplotlib.axes._subplots.AxesSubplot at 0x7f6529a019e8>"
            ]
          },
          "metadata": {
            "tags": []
          },
          "execution_count": 42
        },
        {
          "output_type": "display_data",
          "data": {
            "image/png": "[encoded data removed]",
            "text/plain": [
              "<Figure size 432x288 with 1 Axes>"
            ]
          },
          "metadata": {
            "tags": []
          }
        }
      ]
    },
    {
      "cell_type": "code",
      "metadata": {
        "id": "vqj7vRaLQPTI",
        "colab_type": "code",
        "colab": {}
      },
      "source": [
        "#define predictors and target\n",
        "X = df2[['sepal_length', 'sepal_width', 'petal_length', 'petal_width']] #predictors\n",
        "\n",
        "y = df2[['type']] #target"
      ],
      "execution_count": 0,
      "outputs": []
    },
    {
      "cell_type": "code",
      "metadata": {
        "id": "by6L5ZcfSQbG",
        "colab_type": "code",
        "colab": {}
      },
      "source": [
        "X_train, X_test, y_train, y_test = train_test_split(X, y, random_state=0)"
      ],
      "execution_count": 0,
      "outputs": []
    },
    {
      "cell_type": "code",
      "metadata": {
        "id": "LIAL_6roSTmR",
        "colab_type": "code",
        "colab": {}
      },
      "source": [
        "NB = GaussianNB()"
      ],
      "execution_count": 0,
      "outputs": []
    },
    {
      "cell_type": "code",
      "metadata": {
        "id": "c9duZejoSbI_",
        "colab_type": "code",
        "outputId": "53f2de56-383f-4155-d2f3-fe4b22373af5",
        "colab": {
          "base_uri": "https://localhost:8080/",
          "height": 71
        }
      },
      "source": [
        "nb1 = NB.fit(X_train,y_train)"
      ],
      "execution_count": 46,
      "outputs": [
        {
          "output_type": "stream",
          "text": [
            "/usr/local/lib/python3.6/dist-packages/sklearn/naive_bayes.py:206: DataConversionWarning: A column-vector y was passed when a 1d array was expected. Please change the shape of y to (n_samples, ), for example using ravel().\n",
            "  y = column_or_1d(y, warn=True)\n"
          ],
          "name": "stderr"
        }
      ]
    },
    {
      "cell_type": "code",
      "metadata": {
        "id": "TlAKyTBWSlY5",
        "colab_type": "code",
        "colab": {}
      },
      "source": [
        "y_predict = nb1.predict(X_test)"
      ],
      "execution_count": 0,
      "outputs": []
    },
    {
      "cell_type": "code",
      "metadata": {
        "id": "hbMIU3nvSz0e",
        "colab_type": "code",
        "colab": {}
      },
      "source": [
        "y_predict = pd.DataFrame(y_predict,index = y_test.index, columns = ['predict'])"
      ],
      "execution_count": 0,
      "outputs": []
    },
    {
      "cell_type": "code",
      "metadata": {
        "id": "B8HiIfK1S5VG",
        "colab_type": "code",
        "outputId": "8c7a4858-a695-4315-d4bf-f39ba6a38eb3",
        "colab": {
          "base_uri": "https://localhost:8080/",
          "height": 340
        }
      },
      "source": [
        "dftest = pd.concat([y_test, y_predict])\n",
        "df3 = dftest.head(25)\n",
        "df3.head()"
      ],
      "execution_count": 49,
      "outputs": [
        {
          "output_type": "stream",
          "text": [
            "/usr/local/lib/python3.6/dist-packages/ipykernel_launcher.py:1: FutureWarning: Sorting because non-concatenation axis is not aligned. A future version\n",
            "of pandas will change to not sort by default.\n",
            "\n",
            "To accept the future behavior, pass 'sort=False'.\n",
            "\n",
            "To retain the current behavior and silence the warning, pass 'sort=True'.\n",
            "\n",
            "  \"\"\"Entry point for launching an IPython kernel.\n"
          ],
          "name": "stderr"
        },
        {
          "output_type": "execute_result",
          "data": {
            "text/html": [
              "<div>\n",
              "<style scoped>\n",
              "    .dataframe tbody tr th:only-of-type {\n",
              "        vertical-align: middle;\n",
              "    }\n",
              "\n",
              "    .dataframe tbody tr th {\n",
              "        vertical-align: top;\n",
              "    }\n",
              "\n",
              "    .dataframe thead th {\n",
              "        text-align: right;\n",
              "    }\n",
              "</style>\n",
              "<table border=\"1\" class=\"dataframe\">\n",
              "  <thead>\n",
              "    <tr style=\"text-align: right;\">\n",
              "      <th></th>\n",
              "      <th>predict</th>\n",
              "      <th>type</th>\n",
              "    </tr>\n",
              "  </thead>\n",
              "  <tbody>\n",
              "    <tr>\n",
              "      <th>114</th>\n",
              "      <td>NaN</td>\n",
              "      <td>2.0</td>\n",
              "    </tr>\n",
              "    <tr>\n",
              "      <th>62</th>\n",
              "      <td>NaN</td>\n",
              "      <td>1.0</td>\n",
              "    </tr>\n",
              "    <tr>\n",
              "      <th>33</th>\n",
              "      <td>NaN</td>\n",
              "      <td>0.0</td>\n",
              "    </tr>\n",
              "    <tr>\n",
              "      <th>107</th>\n",
              "      <td>NaN</td>\n",
              "      <td>2.0</td>\n",
              "    </tr>\n",
              "    <tr>\n",
              "      <th>7</th>\n",
              "      <td>NaN</td>\n",
              "      <td>0.0</td>\n",
              "    </tr>\n",
              "  </tbody>\n",
              "</table>\n",
              "</div>"
            ],
            "text/plain": [
              "     predict  type\n",
              "114      NaN   2.0\n",
              "62       NaN   1.0\n",
              "33       NaN   0.0\n",
              "107      NaN   2.0\n",
              "7        NaN   0.0"
            ]
          },
          "metadata": {
            "tags": []
          },
          "execution_count": 49
        }
      ]
    },
    {
      "cell_type": "code",
      "metadata": {
        "id": "Dh6hyQPOUPCL",
        "colab_type": "code",
        "colab": {}
      },
      "source": [
        "#Build a \"dummy\" classifier that predicts every observation to be the most frequent class, in this case 'no-exit')\n",
        "#This is our Baseline Model\n",
        "dummy = DummyClassifier(strategy= 'uniform')\n",
        "dumb = dummy.fit(X_train,y_train)\n",
        "dumb_pred = dumb.predict(X_test)\n",
        "dumb_pred_prob = dumb.predict_proba(X_test)"
      ],
      "execution_count": 0,
      "outputs": []
    },
    {
      "cell_type": "code",
      "metadata": {
        "id": "raaHZ7ACUW-H",
        "colab_type": "code",
        "outputId": "852777fd-45c3-4da6-ca51-a75be46ed052",
        "colab": {
          "base_uri": "https://localhost:8080/",
          "height": 68
        }
      },
      "source": [
        "print(\"Test accuracy (Naive Bayes) =\", 100*nb1.score(X_test,y_test), end=\"% \\n\\n\")\n",
        "\n",
        "print(\"Test accuracy (Dummy Classifier) =\", 100*dumb.score(dumb_pred,y_test), end=\"%\")"
      ],
      "execution_count": 51,
      "outputs": [
        {
          "output_type": "stream",
          "text": [
            "Test accuracy (Naive Bayes) = 100.0% \n",
            "\n",
            "Test accuracy (Dummy Classifier) = 36.84210526315789%"
          ],
          "name": "stdout"
        }
      ]
    },
    {
      "cell_type": "code",
      "metadata": {
        "id": "21AlID1cU0z6",
        "colab_type": "code",
        "outputId": "ca35546b-b1f6-4578-8fa3-e67585e71bf1",
        "colab": {
          "base_uri": "https://localhost:8080/",
          "height": 468
        }
      },
      "source": [
        "#generate confusion matrix for Dummy classifier\n",
        "cm_dummy = confusion_matrix(y_test, dumb_pred)\n",
        "#put it into a dataframe for seaborn plot function\n",
        "cm_dummy_df = pd.DataFrame(cm_dummy)\n",
        "\n",
        "#Use a seaborn heatmap to plot confusion matrices\n",
        "#The dataframe is transposed to make Actual values on x-axis and predicted on y-axis\n",
        "#annot = True includes the numbers in each box\n",
        "#vmin and vmax just adjusts the color value\n",
        "fig, ax = plt.subplots(figsize = (7,7))\n",
        "sns.heatmap(cm_dummy_df.T, annot=True, annot_kws={\"size\": 15}, cmap=\"Oranges\", vmin=0, vmax=800, fmt='.0f', linewidths=1, linecolor=\"white\", cbar=False,\n",
        "           xticklabels=[\"Iris-setosa\",\"Iris-versicolor\", 'Iris-virginica'], yticklabels=[\"Iris-setosa\",\"Iris-versicolor\", 'Iris-virginica'])\n",
        "plt.ylabel(\"Predicted\", fontsize=15)\n",
        "plt.xlabel(\"Actual\", fontsize=15)\n",
        "ax.set_xticklabels([\"Iris-setosa\",\"Iris-versicolor\", 'Iris-virginica'], fontsize=13)\n",
        "ax.set_yticklabels([\"Iris-setosa\",\"Iris-versicolor\", 'Iris-virginica'], fontsize=13)\n",
        "plt.title(\"Confusion Matrix for 'Dummy' Classifier - Counts\", fontsize=15)\n",
        "\n",
        "plt.show()"
      ],
      "execution_count": 52,
      "outputs": [
        {
          "output_type": "display_data",
          "data": {
            "image/png": "[encoded data removed]",
            "text/plain": [
              "<Figure size 504x504 with 1 Axes>"
            ]
          },
          "metadata": {
            "tags": []
          }
        }
      ]
    },
    {
      "cell_type": "code",
      "metadata": {
        "id": "Xb2ZRMtnXFSI",
        "colab_type": "code",
        "outputId": "b370ab73-b29d-4bc0-8aed-e04ebc98d1f1",
        "colab": {
          "base_uri": "https://localhost:8080/",
          "height": 468
        }
      },
      "source": [
        "#generate confusion matrix\n",
        "cm_nb = confusion_matrix(y_test, y_predict)\n",
        "#put it into a dataframe\n",
        "cm_nb_df = pd.DataFrame(cm_nb)\n",
        "\n",
        "#plot CM\n",
        "fig, ax = plt.subplots(figsize = (7,7))\n",
        "sns.heatmap(pd.DataFrame(cm_nb_df.T), annot=True, annot_kws={\"size\": 15}, cmap=\"Purples\", vmin=0, vmax=500, fmt='.0f', linewidths=1, linecolor=\"white\", cbar=False,\n",
        "           xticklabels=[\"Iris-setosa\",\"Iris-versicolor\", 'Iris-virginica'], yticklabels=[\"Iris-setosa\",\"Iris-versicolor\", 'Iris-virginica'])\n",
        "plt.ylabel(\"Predicted\", fontsize=15)\n",
        "plt.xlabel(\"Actual\", fontsize=15)\n",
        "ax.set_xticklabels([\"Iris-setosa\",\"Iris-versicolor\", 'Iris-virginica'], fontsize=13)\n",
        "ax.set_yticklabels([\"Iris-setosa\",\"Iris-versicolor\", 'Iris-virginica'], fontsize=13)\n",
        "plt.title(\"Confusion Matrix for Naive Bayes Classifier - Counts\", fontsize=15)\n",
        "plt.show()"
      ],
      "execution_count": 53,
      "outputs": [
        {
          "output_type": "display_data",
          "data": {
            "image/png": "[encoded data removed]",
            "text/plain": [
              "<Figure size 504x504 with 1 Axes>"
            ]
          },
          "metadata": {
            "tags": []
          }
        }
      ]
    },
    {
      "cell_type": "markdown",
      "metadata": {
        "id": "lAHkFQNfXOXJ",
        "colab_type": "text"
      },
      "source": [
        "![image.png](data:image/png;base64,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)"
      ]
    },
    {
      "cell_type": "code",
      "metadata": {
        "id": "1gT8_kIOYV7P",
        "colab_type": "code",
        "outputId": "a0cd5fb4-ee46-4b4d-93b1-1c4f269a4f96",
        "colab": {
          "base_uri": "https://localhost:8080/",
          "height": 119
        }
      },
      "source": [
        "#generating a report to extract the measure of interest using built-in sklearn function\n",
        "report = classification_report(y_test,dumb_pred,digits=3,output_dict = True)\n",
        "\n",
        "print(\"Naive Bayes:\")\n",
        "print(\"Accuracy = {0:0.3f}\".format(report[\"accuracy\"]))\n",
        "print(\"Iris-type 1 Precision = {0:0.3f}\".format(report[\"1\"][\"precision\"]))\n",
        "print(\"Iris-type 1 Specificity = {0:0.3f}\".format(report[\"1\"][\"recall\"]))\n",
        "print(\"Iris-type 1 Sensitivity = {0:0.3f}\".format(report[\"1\"][\"recall\"]))\n",
        "print(\"Iris-type 1 F1-score = {0:0.3f}\".format(report[\"1\"][\"f1-score\"]))"
      ],
      "execution_count": 54,
      "outputs": [
        {
          "output_type": "stream",
          "text": [
            "Naive Bayes:\n",
            "Accuracy = 0.368\n",
            "Iris-type 1 Precision = 0.438\n",
            "Iris-type 1 Specificity = 0.438\n",
            "Iris-type 1 Sensitivity = 0.438\n",
            "Iris-type 1 F1-score = 0.438\n"
          ],
          "name": "stdout"
        }
      ]
    },
    {
      "cell_type": "markdown",
      "metadata": {
        "id": "qsufSq7hZC73",
        "colab_type": "text"
      },
      "source": [
        "**ANN Classification**"
      ]
    },
    {
      "cell_type": "code",
      "metadata": {
        "id": "xJs_1-LgZyVe",
        "colab_type": "code",
        "outputId": "9d6f6164-9521-460d-abe4-558aa8ee34ca",
        "colab": {
          "base_uri": "https://localhost:8080/",
          "height": 204
        }
      },
      "source": [
        "#downloading the iris dataset, splitting it into train set and validation set \n",
        "url = 'https://archive.ics.uci.edu/ml/machine-learning-databases/iris/iris.data'\n",
        "col=['sepal_length','sepal_width','petal_length','petal_width','type']\n",
        "\n",
        "df = pd.read_csv(url, names = col)\n",
        "\n",
        "# Print first 5 rows of the dataframe\n",
        "df.head()"
      ],
      "execution_count": 55,
      "outputs": [
        {
          "output_type": "execute_result",
          "data": {
            "text/html": [
              "<div>\n",
              "<style scoped>\n",
              "    .dataframe tbody tr th:only-of-type {\n",
              "        vertical-align: middle;\n",
              "    }\n",
              "\n",
              "    .dataframe tbody tr th {\n",
              "        vertical-align: top;\n",
              "    }\n",
              "\n",
              "    .dataframe thead th {\n",
              "        text-align: right;\n",
              "    }\n",
              "</style>\n",
              "<table border=\"1\" class=\"dataframe\">\n",
              "  <thead>\n",
              "    <tr style=\"text-align: right;\">\n",
              "      <th></th>\n",
              "      <th>sepal_length</th>\n",
              "      <th>sepal_width</th>\n",
              "      <th>petal_length</th>\n",
              "      <th>petal_width</th>\n",
              "      <th>type</th>\n",
              "    </tr>\n",
              "  </thead>\n",
              "  <tbody>\n",
              "    <tr>\n",
              "      <th>0</th>\n",
              "      <td>5.1</td>\n",
              "      <td>3.5</td>\n",
              "      <td>1.4</td>\n",
              "      <td>0.2</td>\n",
              "      <td>Iris-setosa</td>\n",
              "    </tr>\n",
              "    <tr>\n",
              "      <th>1</th>\n",
              "      <td>4.9</td>\n",
              "      <td>3.0</td>\n",
              "      <td>1.4</td>\n",
              "      <td>0.2</td>\n",
              "      <td>Iris-setosa</td>\n",
              "    </tr>\n",
              "    <tr>\n",
              "      <th>2</th>\n",
              "      <td>4.7</td>\n",
              "      <td>3.2</td>\n",
              "      <td>1.3</td>\n",
              "      <td>0.2</td>\n",
              "      <td>Iris-setosa</td>\n",
              "    </tr>\n",
              "    <tr>\n",
              "      <th>3</th>\n",
              "      <td>4.6</td>\n",
              "      <td>3.1</td>\n",
              "      <td>1.5</td>\n",
              "      <td>0.2</td>\n",
              "      <td>Iris-setosa</td>\n",
              "    </tr>\n",
              "    <tr>\n",
              "      <th>4</th>\n",
              "      <td>5.0</td>\n",
              "      <td>3.6</td>\n",
              "      <td>1.4</td>\n",
              "      <td>0.2</td>\n",
              "      <td>Iris-setosa</td>\n",
              "    </tr>\n",
              "  </tbody>\n",
              "</table>\n",
              "</div>"
            ],
            "text/plain": [
              "   sepal_length  sepal_width  petal_length  petal_width         type\n",
              "0           5.1          3.5           1.4          0.2  Iris-setosa\n",
              "1           4.9          3.0           1.4          0.2  Iris-setosa\n",
              "2           4.7          3.2           1.3          0.2  Iris-setosa\n",
              "3           4.6          3.1           1.5          0.2  Iris-setosa\n",
              "4           5.0          3.6           1.4          0.2  Iris-setosa"
            ]
          },
          "metadata": {
            "tags": []
          },
          "execution_count": 55
        }
      ]
    },
    {
      "cell_type": "code",
      "metadata": {
        "id": "aD_OI8o6aCqc",
        "colab_type": "code",
        "outputId": "d6aed46a-c626-48fa-be87-bba55bd81425",
        "colab": {
          "base_uri": "https://localhost:8080/",
          "height": 204
        }
      },
      "source": [
        "df2 = df\n",
        "df2['type']  = df2['type'].replace({'Iris-setosa': 0})\n",
        "df2['type']  = df2['type'].replace({'Iris-versicolor': 1})\n",
        "df2['type']  = df2['type'].replace({'Iris-virginica': 2})\n",
        "df2.head()"
      ],
      "execution_count": 56,
      "outputs": [
        {
          "output_type": "execute_result",
          "data": {
            "text/html": [
              "<div>\n",
              "<style scoped>\n",
              "    .dataframe tbody tr th:only-of-type {\n",
              "        vertical-align: middle;\n",
              "    }\n",
              "\n",
              "    .dataframe tbody tr th {\n",
              "        vertical-align: top;\n",
              "    }\n",
              "\n",
              "    .dataframe thead th {\n",
              "        text-align: right;\n",
              "    }\n",
              "</style>\n",
              "<table border=\"1\" class=\"dataframe\">\n",
              "  <thead>\n",
              "    <tr style=\"text-align: right;\">\n",
              "      <th></th>\n",
              "      <th>sepal_length</th>\n",
              "      <th>sepal_width</th>\n",
              "      <th>petal_length</th>\n",
              "      <th>petal_width</th>\n",
              "      <th>type</th>\n",
              "    </tr>\n",
              "  </thead>\n",
              "  <tbody>\n",
              "    <tr>\n",
              "      <th>0</th>\n",
              "      <td>5.1</td>\n",
              "      <td>3.5</td>\n",
              "      <td>1.4</td>\n",
              "      <td>0.2</td>\n",
              "      <td>0</td>\n",
              "    </tr>\n",
              "    <tr>\n",
              "      <th>1</th>\n",
              "      <td>4.9</td>\n",
              "      <td>3.0</td>\n",
              "      <td>1.4</td>\n",
              "      <td>0.2</td>\n",
              "      <td>0</td>\n",
              "    </tr>\n",
              "    <tr>\n",
              "      <th>2</th>\n",
              "      <td>4.7</td>\n",
              "      <td>3.2</td>\n",
              "      <td>1.3</td>\n",
              "      <td>0.2</td>\n",
              "      <td>0</td>\n",
              "    </tr>\n",
              "    <tr>\n",
              "      <th>3</th>\n",
              "      <td>4.6</td>\n",
              "      <td>3.1</td>\n",
              "      <td>1.5</td>\n",
              "      <td>0.2</td>\n",
              "      <td>0</td>\n",
              "    </tr>\n",
              "    <tr>\n",
              "      <th>4</th>\n",
              "      <td>5.0</td>\n",
              "      <td>3.6</td>\n",
              "      <td>1.4</td>\n",
              "      <td>0.2</td>\n",
              "      <td>0</td>\n",
              "    </tr>\n",
              "  </tbody>\n",
              "</table>\n",
              "</div>"
            ],
            "text/plain": [
              "   sepal_length  sepal_width  petal_length  petal_width  type\n",
              "0           5.1          3.5           1.4          0.2     0\n",
              "1           4.9          3.0           1.4          0.2     0\n",
              "2           4.7          3.2           1.3          0.2     0\n",
              "3           4.6          3.1           1.5          0.2     0\n",
              "4           5.0          3.6           1.4          0.2     0"
            ]
          },
          "metadata": {
            "tags": []
          },
          "execution_count": 56
        }
      ]
    },
    {
      "cell_type": "code",
      "metadata": {
        "id": "xff1PJ3QaFcm",
        "colab_type": "code",
        "colab": {}
      },
      "source": [
        "X = df2[['sepal_length', 'sepal_width', 'petal_length', 'petal_width']] #predictors\n",
        "\n",
        "y = df2[['type']] #target"
      ],
      "execution_count": 0,
      "outputs": []
    },
    {
      "cell_type": "code",
      "metadata": {
        "id": "OgrBvQ_SaK5y",
        "colab_type": "code",
        "colab": {}
      },
      "source": [
        "X_train, X_test, y_train, y_test = train_test_split(X, y, random_state=0)"
      ],
      "execution_count": 0,
      "outputs": []
    },
    {
      "cell_type": "code",
      "metadata": {
        "id": "uDO4ylaaagcB",
        "colab_type": "code",
        "colab": {}
      },
      "source": [
        "from sklearn.neural_network import MLPClassifier"
      ],
      "execution_count": 0,
      "outputs": []
    },
    {
      "cell_type": "code",
      "metadata": {
        "id": "9fl85OKnak9n",
        "colab_type": "code",
        "colab": {}
      },
      "source": [
        "ANN = MLPClassifier(hidden_layer_sizes=(50,), max_iter= 1000)"
      ],
      "execution_count": 0,
      "outputs": []
    },
    {
      "cell_type": "code",
      "metadata": {
        "id": "V-FRONqua0nv",
        "colab_type": "code",
        "outputId": "9a8f3126-bdf1-4aec-8a90-00d9adb7fc0d",
        "colab": {
          "base_uri": "https://localhost:8080/",
          "height": 207
        }
      },
      "source": [
        "ANN.fit(X_train,y_train)"
      ],
      "execution_count": 61,
      "outputs": [
        {
          "output_type": "stream",
          "text": [
            "/usr/local/lib/python3.6/dist-packages/sklearn/neural_network/_multilayer_perceptron.py:934: DataConversionWarning: A column-vector y was passed when a 1d array was expected. Please change the shape of y to (n_samples, ), for example using ravel().\n",
            "  y = column_or_1d(y, warn=True)\n"
          ],
          "name": "stderr"
        },
        {
          "output_type": "execute_result",
          "data": {
            "text/plain": [
              "MLPClassifier(activation='relu', alpha=0.0001, batch_size='auto', beta_1=0.9,\n",
              "              beta_2=0.999, early_stopping=False, epsilon=1e-08,\n",
              "              hidden_layer_sizes=(50,), learning_rate='constant',\n",
              "              learning_rate_init=0.001, max_fun=15000, max_iter=1000,\n",
              "              momentum=0.9, n_iter_no_change=10, nesterovs_momentum=True,\n",
              "              power_t=0.5, random_state=None, shuffle=True, solver='adam',\n",
              "              tol=0.0001, validation_fraction=0.1, verbose=False,\n",
              "              warm_start=False)"
            ]
          },
          "metadata": {
            "tags": []
          },
          "execution_count": 61
        }
      ]
    },
    {
      "cell_type": "code",
      "metadata": {
        "id": "SHv7HpWua9CU",
        "colab_type": "code",
        "colab": {}
      },
      "source": [
        "y_predict = ANN.predict(X_test)"
      ],
      "execution_count": 0,
      "outputs": []
    },
    {
      "cell_type": "code",
      "metadata": {
        "id": "-xM7iPotbGhl",
        "colab_type": "code",
        "outputId": "0ad4175e-e20d-4652-984c-39f3c3f93867",
        "colab": {
          "base_uri": "https://localhost:8080/",
          "height": 34
        }
      },
      "source": [
        "print(\"Accuracy MLP ANN: {:.2f}\".format(ANN.score(X_test, y_predict)))"
      ],
      "execution_count": 63,
      "outputs": [
        {
          "output_type": "stream",
          "text": [
            "Accuracy MLP ANN: 1.00\n"
          ],
          "name": "stdout"
        }
      ]
    }
  ]
}